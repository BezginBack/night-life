{
 "cells": [
  {
   "cell_type": "code",
   "execution_count": 375,
   "metadata": {},
   "outputs": [],
   "source": [
    "import pandas as pd\n",
    "import matplotlib.pyplot as plt\n",
    "import numpy as np\n",
    "import seaborn as sns\n",
    "from sklearn.cluster import KMeans\n",
    "from sklearn.preprocessing import StandardScaler\n",
    "import warnings\n",
    "warnings.filterwarnings(\"ignore\")\n",
    "\n",
    "data1 = pd.read_csv(\"./datasets/all_cust_with_date.csv\", sep=\";\", dtype={\"cust_id\":\"object\"})"
   ]
  },
  {
   "cell_type": "code",
   "execution_count": 376,
   "metadata": {},
   "outputs": [],
   "source": [
    "df = data1.copy()"
   ]
  },
  {
   "cell_type": "code",
   "execution_count": 379,
   "metadata": {},
   "outputs": [
    {
     "name": "stdout",
     "output_type": "stream",
     "text": [
      "<class 'pandas.core.frame.DataFrame'>\n",
      "RangeIndex: 405037 entries, 0 to 405036\n",
      "Data columns (total 55 columns):\n",
      " #   Column                     Non-Null Count   Dtype  \n",
      "---  ------                     --------------   -----  \n",
      " 0   q_date                     405037 non-null  object \n",
      " 1   cust_id                    405037 non-null  object \n",
      " 2   cust_date                  405037 non-null  object \n",
      " 3   consumer_loan_balance      405037 non-null  float64\n",
      " 4   vehicle_loan_balance       405037 non-null  float64\n",
      " 5   mortgage_balance           405037 non-null  float64\n",
      " 6   overdraft_balance          405037 non-null  float64\n",
      " 7   overdraft_avg              405037 non-null  float64\n",
      " 8   savings_balance            405037 non-null  float64\n",
      " 9   drawing_balance            405037 non-null  float64\n",
      " 10  savings_avg                405037 non-null  float64\n",
      " 11  drawing_avg                405037 non-null  float64\n",
      " 12  salary_avg                 405037 non-null  float64\n",
      " 13  has_salary                 405037 non-null  int64  \n",
      " 14  number_of_products         405037 non-null  int64  \n",
      " 15  number_of_active_products  405037 non-null  int64  \n",
      " 16  card_limit                 405037 non-null  float64\n",
      " 17  has_deferred_payment       405037 non-null  int64  \n",
      " 18  has_loan                   405037 non-null  int64  \n",
      " 19  has_product_1              405037 non-null  int64  \n",
      " 20  active_product_2           405037 non-null  int64  \n",
      " 21  has_product_2              405037 non-null  int64  \n",
      " 22  active_product_3           405037 non-null  int64  \n",
      " 23  has_product_3              405037 non-null  int64  \n",
      " 24  active_product_4           405037 non-null  int64  \n",
      " 25  has_product_4              405037 non-null  int64  \n",
      " 26  active_overdraft           405037 non-null  int64  \n",
      " 27  has_overdraft              405037 non-null  int64  \n",
      " 28  active_credit_card         405037 non-null  int64  \n",
      " 29  active_product_5           405037 non-null  int64  \n",
      " 30  has_product_5              405037 non-null  int64  \n",
      " 31  has_credit_card            405037 non-null  int64  \n",
      " 32  active_product_6           405037 non-null  int64  \n",
      " 33  has_product_6              405037 non-null  int64  \n",
      " 34  active_product_7           405037 non-null  int64  \n",
      " 35  has_product_7              405037 non-null  int64  \n",
      " 36  active_product_8           405037 non-null  int64  \n",
      " 37  has_product_8              405037 non-null  int64  \n",
      " 38  active_product_9           405037 non-null  int64  \n",
      " 39  has_product_9              405037 non-null  int64  \n",
      " 40  active_product_10          405037 non-null  int64  \n",
      " 41  has_product_10             405037 non-null  int64  \n",
      " 42  active_product_11          405037 non-null  int64  \n",
      " 43  has_product_11             405037 non-null  int64  \n",
      " 44  active_product_12          405037 non-null  int64  \n",
      " 45  has_product_12             405037 non-null  int64  \n",
      " 46  has_nonperforming_loan     405037 non-null  int64  \n",
      " 47  active_product_13          405037 non-null  int64  \n",
      " 48  has_product_13             405037 non-null  int64  \n",
      " 49  active_savings             405037 non-null  int64  \n",
      " 50  has_savings                405037 non-null  int64  \n",
      " 51  active_drawing             405037 non-null  int64  \n",
      " 52  has_drawing                405037 non-null  int64  \n",
      " 53  active_product_14          405037 non-null  int64  \n",
      " 54  has_product_14             405037 non-null  int64  \n",
      "dtypes: float64(11), int64(41), object(3)\n",
      "memory usage: 170.0+ MB\n"
     ]
    }
   ],
   "source": [
    "df.info()"
   ]
  },
  {
   "cell_type": "code",
   "execution_count": 293,
   "metadata": {},
   "outputs": [],
   "source": [
    "df[\"cust_date\"] = pd.to_datetime(df[\"cust_date\"])"
   ]
  },
  {
   "cell_type": "code",
   "execution_count": 294,
   "metadata": {},
   "outputs": [],
   "source": [
    "df[\"cust_years\"] = df[\"cust_date\"].apply(lambda x: 2020 - x.year)"
   ]
  },
  {
   "cell_type": "code",
   "execution_count": 295,
   "metadata": {},
   "outputs": [],
   "source": [
    "df.insert(3, \"cust_year\", df[\"cust_years\"])"
   ]
  },
  {
   "cell_type": "code",
   "execution_count": 296,
   "metadata": {},
   "outputs": [],
   "source": [
    "df.insert(18, \"has_salary_account\", df[\"has_salary\"])"
   ]
  },
  {
   "cell_type": "code",
   "execution_count": 297,
   "metadata": {},
   "outputs": [],
   "source": [
    "df.insert(19, \"has_default_record\", df[\"has_nonperforming_loan\"])"
   ]
  },
  {
   "cell_type": "code",
   "execution_count": 298,
   "metadata": {},
   "outputs": [],
   "source": [
    "df = df.drop([\"has_nonperforming_loan\",\n",
    "              \"has_salary\", \"cust_years\",\n",
    "              \"q_date\",\n",
    "              \"cust_date\",\n",
    "              \"number_of_products\",\n",
    "              \"number_of_active_products\"], axis=1)"
   ]
  },
  {
   "cell_type": "code",
   "execution_count": 299,
   "metadata": {},
   "outputs": [
    {
     "name": "stdout",
     "output_type": "stream",
     "text": [
      "<class 'pandas.core.frame.DataFrame'>\n",
      "RangeIndex: 405037 entries, 0 to 405036\n",
      "Data columns (total 52 columns):\n",
      " #   Column                 Non-Null Count   Dtype  \n",
      "---  ------                 --------------   -----  \n",
      " 0   cust_id                405037 non-null  object \n",
      " 1   cust_year              405037 non-null  int64  \n",
      " 2   consumer_loan_balance  405037 non-null  float64\n",
      " 3   vehicle_loan_balance   405037 non-null  float64\n",
      " 4   mortgage_balance       405037 non-null  float64\n",
      " 5   overdraft_balance      405037 non-null  float64\n",
      " 6   savings_balance        405037 non-null  float64\n",
      " 7   drawing_balance        405037 non-null  float64\n",
      " 8   overdraft_avg          405037 non-null  float64\n",
      " 9   savings_avg            405037 non-null  float64\n",
      " 10  drawing_avg            405037 non-null  float64\n",
      " 11  salary_avg             405037 non-null  float64\n",
      " 12  card_limit             405037 non-null  float64\n",
      " 13  has_salary_account     405037 non-null  int64  \n",
      " 14  has_default_record     405037 non-null  int64  \n",
      " 15  has_deferred_payment   405037 non-null  int64  \n",
      " 16  has_loan               405037 non-null  int64  \n",
      " 17  has_overdraft          405037 non-null  int64  \n",
      " 18  has_credit_card        405037 non-null  int64  \n",
      " 19  has_savings            405037 non-null  int64  \n",
      " 20  has_drawing            405037 non-null  int64  \n",
      " 21  has_product_1          405037 non-null  int64  \n",
      " 22  has_product_2          405037 non-null  int64  \n",
      " 23  has_product_3          405037 non-null  int64  \n",
      " 24  has_product_4          405037 non-null  int64  \n",
      " 25  has_product_5          405037 non-null  int64  \n",
      " 26  has_product_6          405037 non-null  int64  \n",
      " 27  has_product_7          405037 non-null  int64  \n",
      " 28  has_product_8          405037 non-null  int64  \n",
      " 29  has_product_9          405037 non-null  int64  \n",
      " 30  has_product_10         405037 non-null  int64  \n",
      " 31  has_product_11         405037 non-null  int64  \n",
      " 32  has_product_12         405037 non-null  int64  \n",
      " 33  has_product_13         405037 non-null  int64  \n",
      " 34  has_product_14         405037 non-null  int64  \n",
      " 35  active_overdraft       405037 non-null  int64  \n",
      " 36  active_credit_card     405037 non-null  int64  \n",
      " 37  active_savings         405037 non-null  int64  \n",
      " 38  active_drawing         405037 non-null  int64  \n",
      " 39  active_product_2       405037 non-null  int64  \n",
      " 40  active_product_3       405037 non-null  int64  \n",
      " 41  active_product_4       405037 non-null  int64  \n",
      " 42  active_product_5       405037 non-null  int64  \n",
      " 43  active_product_6       405037 non-null  int64  \n",
      " 44  active_product_7       405037 non-null  int64  \n",
      " 45  active_product_8       405037 non-null  int64  \n",
      " 46  active_product_9       405037 non-null  int64  \n",
      " 47  active_product_10      405037 non-null  int64  \n",
      " 48  active_product_11      405037 non-null  int64  \n",
      " 49  active_product_12      405037 non-null  int64  \n",
      " 50  active_product_13      405037 non-null  int64  \n",
      " 51  active_product_14      405037 non-null  int64  \n",
      "dtypes: float64(11), int64(40), object(1)\n",
      "memory usage: 160.7+ MB\n"
     ]
    }
   ],
   "source": [
    "df_v1 = df.iloc[:, [0,1,2,3,4,5,7,8,6,9,10,11,12,13,14,15,16,25,29,47,49,17,19,21,23,28,31,33,35,37,39,41,43,45,51,24,26,46,48,18,20,22,27,30,32,34,36,38,40,42,44,50]]\n",
    "df_v1.info()"
   ]
  },
  {
   "cell_type": "code",
   "execution_count": 300,
   "metadata": {},
   "outputs": [],
   "source": [
    "df_v1[\"num_owned_product\"] = 0 \n",
    "df_v1[\"num_active_product\"] = 0"
   ]
  },
  {
   "cell_type": "code",
   "execution_count": 301,
   "metadata": {},
   "outputs": [],
   "source": [
    "for i in range(16,35):\n",
    "    df_v1.loc[(df_v1.iloc[:,i] > 0), \"num_owned_product\"] = df_v1[\"num_owned_product\"] + 1\n",
    "    \n",
    "for i in range(35,52):\n",
    "    df_v1.loc[(df_v1.iloc[:,i] > 0), \"num_active_product\"] = df_v1[\"num_active_product\"] + 1"
   ]
  },
  {
   "cell_type": "markdown",
   "metadata": {},
   "source": [
    "credit_products = (df_v1[\"consumer_loan_balance\"] +\n",
    "                   df_v1[\"vehicle_loan_balance\"] + \n",
    "                   df_v1[\"mortgage_balance\"] + \n",
    "                   df_v1[\"overdraft_balance\"])*0.7 + (df_v1[\"card_limit\"])*0.1\n",
    "debit_products = (df_v1[\"savings_balance\"] +\n",
    "                  df_v1[\"drawing_balance\"])*0.2 + (df_v1[\"has_salary_account\"])*10\n",
    "morality_penalty = ((df_v1[\"has_deferred_payment\"])*100) + ((df_v1[\"has_default_record\"])*1000)\n",
    "df_v1[\"cust_value_score\"] = credit_products + debit_products - morality_penalty"
   ]
  },
  {
   "cell_type": "code",
   "execution_count": 302,
   "metadata": {},
   "outputs": [
    {
     "data": {
      "image/png": "[encoded data removed]",
      "text/plain": [
       "<Figure size 576x576 with 2 Axes>"
      ]
     },
     "metadata": {
      "needs_background": "light"
     },
     "output_type": "display_data"
    }
   ],
   "source": [
    "fig, (ax1, ax2) = plt.subplots(2,1, figsize=(8,8))\n",
    "sns.distplot(df_v1[\"num_owned_product\"], ax=ax1)\n",
    "sns.distplot(df_v1[\"num_active_product\"], ax=ax2)\n",
    "plt.tight_layout()"
   ]
  },
  {
   "cell_type": "code",
   "execution_count": 303,
   "metadata": {},
   "outputs": [
    {
     "name": "stdout",
     "output_type": "stream",
     "text": [
      "<class 'pandas.core.frame.DataFrame'>\n",
      "RangeIndex: 405037 entries, 0 to 405036\n",
      "Data columns (total 54 columns):\n",
      " #   Column                 Non-Null Count   Dtype  \n",
      "---  ------                 --------------   -----  \n",
      " 0   cust_id                405037 non-null  object \n",
      " 1   cust_year              405037 non-null  int64  \n",
      " 2   consumer_loan_balance  405037 non-null  float64\n",
      " 3   vehicle_loan_balance   405037 non-null  float64\n",
      " 4   mortgage_balance       405037 non-null  float64\n",
      " 5   overdraft_balance      405037 non-null  float64\n",
      " 6   savings_balance        405037 non-null  float64\n",
      " 7   drawing_balance        405037 non-null  float64\n",
      " 8   overdraft_avg          405037 non-null  float64\n",
      " 9   savings_avg            405037 non-null  float64\n",
      " 10  drawing_avg            405037 non-null  float64\n",
      " 11  salary_avg             405037 non-null  float64\n",
      " 12  card_limit             405037 non-null  float64\n",
      " 13  has_salary_account     405037 non-null  int64  \n",
      " 14  has_default_record     405037 non-null  int64  \n",
      " 15  has_deferred_payment   405037 non-null  int64  \n",
      " 16  has_loan               405037 non-null  int64  \n",
      " 17  has_overdraft          405037 non-null  int64  \n",
      " 18  has_credit_card        405037 non-null  int64  \n",
      " 19  has_savings            405037 non-null  int64  \n",
      " 20  has_drawing            405037 non-null  int64  \n",
      " 21  has_product_1          405037 non-null  int64  \n",
      " 22  has_product_2          405037 non-null  int64  \n",
      " 23  has_product_3          405037 non-null  int64  \n",
      " 24  has_product_4          405037 non-null  int64  \n",
      " 25  has_product_5          405037 non-null  int64  \n",
      " 26  has_product_6          405037 non-null  int64  \n",
      " 27  has_product_7          405037 non-null  int64  \n",
      " 28  has_product_8          405037 non-null  int64  \n",
      " 29  has_product_9          405037 non-null  int64  \n",
      " 30  has_product_10         405037 non-null  int64  \n",
      " 31  has_product_11         405037 non-null  int64  \n",
      " 32  has_product_12         405037 non-null  int64  \n",
      " 33  has_product_13         405037 non-null  int64  \n",
      " 34  has_product_14         405037 non-null  int64  \n",
      " 35  active_overdraft       405037 non-null  int64  \n",
      " 36  active_credit_card     405037 non-null  int64  \n",
      " 37  active_savings         405037 non-null  int64  \n",
      " 38  active_drawing         405037 non-null  int64  \n",
      " 39  active_product_2       405037 non-null  int64  \n",
      " 40  active_product_3       405037 non-null  int64  \n",
      " 41  active_product_4       405037 non-null  int64  \n",
      " 42  active_product_5       405037 non-null  int64  \n",
      " 43  active_product_6       405037 non-null  int64  \n",
      " 44  active_product_7       405037 non-null  int64  \n",
      " 45  active_product_8       405037 non-null  int64  \n",
      " 46  active_product_9       405037 non-null  int64  \n",
      " 47  active_product_10      405037 non-null  int64  \n",
      " 48  active_product_11      405037 non-null  int64  \n",
      " 49  active_product_12      405037 non-null  int64  \n",
      " 50  active_product_13      405037 non-null  int64  \n",
      " 51  active_product_14      405037 non-null  int64  \n",
      " 52  num_owned_product      405037 non-null  int64  \n",
      " 53  num_active_product     405037 non-null  int64  \n",
      "dtypes: float64(11), int64(42), object(1)\n",
      "memory usage: 166.9+ MB\n"
     ]
    }
   ],
   "source": [
    "df_v1.info()"
   ]
  },
  {
   "cell_type": "code",
   "execution_count": 304,
   "metadata": {},
   "outputs": [],
   "source": [
    "#df_v1.to_csv(\"all_cust_with_date_v1.csv\", sep=\";\", index=False)"
   ]
  },
  {
   "cell_type": "code",
   "execution_count": 305,
   "metadata": {},
   "outputs": [],
   "source": [
    "data2 = pd.read_csv(\"./datasets/consumer_loan_usage.csv\", sep=\";\", dtype={\"cust_id\":\"object\", \"loan_id\":\"object\"}) #Cust_ID"
   ]
  },
  {
   "cell_type": "code",
   "execution_count": 306,
   "metadata": {},
   "outputs": [
    {
     "name": "stdout",
     "output_type": "stream",
     "text": [
      "<class 'pandas.core.frame.DataFrame'>\n",
      "RangeIndex: 268739 entries, 0 to 268738\n",
      "Data columns (total 4 columns):\n",
      " #   Column   Non-Null Count   Dtype  \n",
      "---  ------   --------------   -----  \n",
      " 0   cust_id  268739 non-null  object \n",
      " 1   date     268739 non-null  object \n",
      " 2   loan_id  268739 non-null  object \n",
      " 3   amount   268739 non-null  float64\n",
      "dtypes: float64(1), object(3)\n",
      "memory usage: 8.2+ MB\n"
     ]
    }
   ],
   "source": [
    "df_target = data2.copy()\n",
    "df_target.info()"
   ]
  },
  {
   "cell_type": "code",
   "execution_count": 13,
   "metadata": {},
   "outputs": [],
   "source": [
    "#df_target = df_target.drop_duplicates(\"Cust_ID\")"
   ]
  },
  {
   "cell_type": "code",
   "execution_count": 307,
   "metadata": {},
   "outputs": [],
   "source": [
    "#df_target[\"product_1_purchase\"] = 1\n",
    "df_target[\"consumer_loan_purchase\"] = 1\n",
    "#df_target = df_target.rename(columns={\"Cust_ID\": \"cust_id\"})\n",
    "#df_target = df_target[[\"cust_id\", \"product_1_purchase\"]]\n",
    "df_target = df_target[[\"cust_id\", \"consumer_loan_purchase\"]]\n",
    "df_v1 = df_v1.merge(df_target, how=\"left\", on=\"cust_id\")"
   ]
  },
  {
   "cell_type": "code",
   "execution_count": 309,
   "metadata": {},
   "outputs": [],
   "source": [
    "#df[\"product_1_purchase\"] = df[\"product_1_purchase\"].fillna(0)\n",
    "df_v1[\"consumer_loan_purchase\"] = df_v1[\"consumer_loan_purchase\"].fillna(0)\n",
    "#df[\"product_1_purchase\"] = df[\"product_1_purchase\"].astype(\"int64\")\n",
    "df_v1[\"consumer_loan_purchase\"] = df_v1[\"consumer_loan_purchase\"].astype(\"int64\")"
   ]
  },
  {
   "cell_type": "code",
   "execution_count": 310,
   "metadata": {},
   "outputs": [
    {
     "data": {
      "text/plain": [
       "0    0.972603\n",
       "1    0.027397\n",
       "Name: consumer_loan_purchase, dtype: float64"
      ]
     },
     "execution_count": 310,
     "metadata": {},
     "output_type": "execute_result"
    }
   ],
   "source": [
    "#df.loc[df[\"has_product_1\"] == 0,\"product_1_purchase\"].value_counts() / df.loc[df[\"has_product_1\"] == 0,\"product_1_purchase\"].count()\n",
    "df_v1[\"consumer_loan_purchase\"].value_counts() / df_v1[\"consumer_loan_purchase\"].count()"
   ]
  },
  {
   "cell_type": "markdown",
   "metadata": {},
   "source": [
    "**Segmentation using cust_year, customer_premium and number_of_active**\n",
    "\n",
    "**cust_year:** years of being customer of bank\n",
    "\n",
    "**customer_premium:** an estimation which converges the customer valuation based mainly on credit and deposit balances, and is calculated as: \n",
    "\n",
    "                     (consumer_loan_balance + vehicle_loan_balance + mortgage_balance + overdraft_balance)*0.8 + \n",
    "                     (savings_balance + drawing_balance)*0.2 +\n",
    "                     (card_limit)*0.1 + \n",
    "                     (has_salary_account)*100 -\n",
    "                     (has_deferred_payment)*100 -\n",
    "                     (has_deferred_payment)*1000\n",
    "      \n",
    "**number_of_active:** instead owning a particular product once, it represents product usage reached a certain criteria\n",
    "\n",
    "source: [https://www.kaggle.com/kushal1996/customer-segmentation-k-means-analysis]\n",
    "\n",
    "source: [https://www.kaggle.com/fabiendaniel/customer-segmentation/data]\n",
    "\n",
    "source: [https://www.kaggle.com/paulinan/bank-customer-segmentation]"
   ]
  },
  {
   "cell_type": "code",
   "execution_count": 313,
   "metadata": {},
   "outputs": [],
   "source": [
    "process_array = df_v1[[\"cust_year\", \"num_active_product\"]].values\n",
    "sc = StandardScaler()\n",
    "process_matrix = sc.fit_transform(process_array)"
   ]
  },
  {
   "cell_type": "code",
   "execution_count": 314,
   "metadata": {},
   "outputs": [],
   "source": [
    "inertia = []\n",
    "for n in range(1, 11):\n",
    "    km = (KMeans(n_clusters=n, init='k-means++', n_init=10, max_iter=300, tol=0.0001, random_state=111, algorithm='elkan'))\n",
    "    km.fit(process_matrix)\n",
    "    inertia.append(km.inertia_)"
   ]
  },
  {
   "cell_type": "code",
   "execution_count": 315,
   "metadata": {},
   "outputs": [
    {
     "data": {
      "image/png": "[encoded data removed]",
      "text/plain": [
       "<Figure size 720x432 with 1 Axes>"
      ]
     },
     "metadata": {
      "needs_background": "light"
     },
     "output_type": "display_data"
    }
   ],
   "source": [
    "plt.figure(1, figsize=(10 ,6))\n",
    "plt.plot(np.arange(1, 11), inertia, 'o')\n",
    "plt.plot(np.arange(1, 11), inertia, '-', alpha = 0.5)\n",
    "plt.xlabel(\"Number of Clusters\"), plt.ylabel(\"Inertia\")\n",
    "plt.show()"
   ]
  },
  {
   "cell_type": "code",
   "execution_count": 316,
   "metadata": {},
   "outputs": [],
   "source": [
    "km = (KMeans(n_clusters=4, init='k-means++', n_init=10, max_iter=300, tol=0.0001, random_state=111, algorithm='elkan'))\n",
    "km.fit(process_matrix)\n",
    "labels = km.labels_\n",
    "centroids = km.cluster_centers_"
   ]
  },
  {
   "cell_type": "code",
   "execution_count": 317,
   "metadata": {},
   "outputs": [],
   "source": [
    "df_v1[\"target_segment\"] = labels"
   ]
  },
  {
   "cell_type": "code",
   "execution_count": 319,
   "metadata": {},
   "outputs": [
    {
     "name": "stdout",
     "output_type": "stream",
     "text": [
      "target_segment: 0 \n",
      " 0    134435\n",
      "1       281\n",
      "Name: consumer_loan_purchase, dtype: int64\n",
      "target_segment: 1 \n",
      " 0    51337\n",
      "1     5389\n",
      "Name: consumer_loan_purchase, dtype: int64\n",
      "target_segment: 2 \n",
      " 0    100509\n",
      "1      4835\n",
      "Name: consumer_loan_purchase, dtype: int64\n",
      "target_segment: 3 \n",
      " 0    107659\n",
      "1       592\n",
      "Name: consumer_loan_purchase, dtype: int64\n"
     ]
    }
   ],
   "source": [
    "for s in range(len(df_v1[\"target_segment\"].value_counts())):\n",
    "    #print(\"target_segment:\", s, \"\\n\", df.loc[((df[\"target_segment\"] == s) & (df[\"has_product_1\"] == 0)), \"product_1_purchase\"].value_counts())\n",
    "    print(\"target_segment:\", s, \"\\n\", df_v1.loc[(df_v1[\"target_segment\"] == s), \"consumer_loan_purchase\"].value_counts())"
   ]
  },
  {
   "cell_type": "code",
   "execution_count": 330,
   "metadata": {},
   "outputs": [
    {
     "data": {
      "text/html": [
       "<div>\n",
       "<style scoped>\n",
       "    .dataframe tbody tr th:only-of-type {\n",
       "        vertical-align: middle;\n",
       "    }\n",
       "\n",
       "    .dataframe tbody tr th {\n",
       "        vertical-align: top;\n",
       "    }\n",
       "\n",
       "    .dataframe thead th {\n",
       "        text-align: right;\n",
       "    }\n",
       "</style>\n",
       "<table border=\"1\" class=\"dataframe\">\n",
       "  <thead>\n",
       "    <tr style=\"text-align: right;\">\n",
       "      <th></th>\n",
       "      <th>active_product_14</th>\n",
       "      <th>num_owned_product</th>\n",
       "      <th>num_active_product</th>\n",
       "      <th>consumer_loan_purchase</th>\n",
       "    </tr>\n",
       "    <tr>\n",
       "      <th>target_segment</th>\n",
       "      <th></th>\n",
       "      <th></th>\n",
       "      <th></th>\n",
       "      <th></th>\n",
       "    </tr>\n",
       "  </thead>\n",
       "  <tbody>\n",
       "    <tr>\n",
       "      <th>0</th>\n",
       "      <td>0.00</td>\n",
       "      <td>1.84</td>\n",
       "      <td>0.30</td>\n",
       "      <td>0.00</td>\n",
       "    </tr>\n",
       "    <tr>\n",
       "      <th>1</th>\n",
       "      <td>0.13</td>\n",
       "      <td>6.85</td>\n",
       "      <td>4.64</td>\n",
       "      <td>0.10</td>\n",
       "    </tr>\n",
       "    <tr>\n",
       "      <th>2</th>\n",
       "      <td>0.03</td>\n",
       "      <td>4.85</td>\n",
       "      <td>3.05</td>\n",
       "      <td>0.05</td>\n",
       "    </tr>\n",
       "    <tr>\n",
       "      <th>3</th>\n",
       "      <td>0.01</td>\n",
       "      <td>2.19</td>\n",
       "      <td>0.59</td>\n",
       "      <td>0.01</td>\n",
       "    </tr>\n",
       "  </tbody>\n",
       "</table>\n",
       "</div>"
      ],
      "text/plain": [
       "                active_product_14  num_owned_product  num_active_product  \\\n",
       "target_segment                                                             \n",
       "0                            0.00               1.84                0.30   \n",
       "1                            0.13               6.85                4.64   \n",
       "2                            0.03               4.85                3.05   \n",
       "3                            0.01               2.19                0.59   \n",
       "\n",
       "                consumer_loan_purchase  \n",
       "target_segment                          \n",
       "0                                 0.00  \n",
       "1                                 0.10  \n",
       "2                                 0.05  \n",
       "3                                 0.01  "
      ]
     },
     "execution_count": 330,
     "metadata": {},
     "output_type": "execute_result"
    }
   ],
   "source": [
    "grouped_af = df_v1.groupby(['target_segment']).mean().round(2)\n",
    "grouped_af.iloc[:,50:55]"
   ]
  },
  {
   "cell_type": "code",
   "execution_count": 333,
   "metadata": {},
   "outputs": [],
   "source": [
    "process_array = df.iloc[:,35:51].values\n",
    "sc = StandardScaler()\n",
    "process_matrix = sc.fit_transform(process_array)"
   ]
  },
  {
   "cell_type": "code",
   "execution_count": 365,
   "metadata": {},
   "outputs": [],
   "source": [
    "inertia = []\n",
    "for n in range(1, 15):\n",
    "    km = (KMeans(n_clusters=n, init='k-means++', n_init=10, max_iter=300, tol=0.0001, random_state=111, algorithm='elkan'))\n",
    "    km.fit(process_matrix)\n",
    "    inertia.append(km.inertia_)"
   ]
  },
  {
   "cell_type": "code",
   "execution_count": 374,
   "metadata": {},
   "outputs": [
    {
     "data": {
      "image/png": "[encoded data removed]",
      "text/plain": [
       "<Figure size 720x432 with 1 Axes>"
      ]
     },
     "metadata": {
      "needs_background": "light"
     },
     "output_type": "display_data"
    }
   ],
   "source": [
    "plt.figure(1, figsize=(10, 6))\n",
    "plt.plot(np.arange(1, 15), inertia, 'o')\n",
    "plt.plot(np.arange(1, 15), inertia, '-', alpha = 0.5)\n",
    "plt.xlabel(\"Number of Clusters\"), plt.ylabel(\"Inertia\")\n",
    "plt.show()"
   ]
  },
  {
   "cell_type": "code",
   "execution_count": 370,
   "metadata": {},
   "outputs": [],
   "source": [
    "km = (KMeans(n_clusters=5, init='k-means++', n_init=10, max_iter=300, tol=0.0001, random_state=111, algorithm='elkan'))\n",
    "km.fit(process_matrix)\n",
    "labels = km.labels_\n",
    "centroids = km.cluster_centers_"
   ]
  },
  {
   "cell_type": "code",
   "execution_count": 371,
   "metadata": {},
   "outputs": [],
   "source": [
    "df_v1[\"target_segment\"] = labels"
   ]
  },
  {
   "cell_type": "code",
   "execution_count": 372,
   "metadata": {},
   "outputs": [
    {
     "name": "stdout",
     "output_type": "stream",
     "text": [
      "target_segment: 0 \n",
      " 0    267580\n",
      "1      3788\n",
      "Name: consumer_loan_purchase, dtype: int64\n",
      "target_segment: 1 \n",
      " 0    16917\n",
      "1     2869\n",
      "Name: consumer_loan_purchase, dtype: int64\n",
      "target_segment: 2 \n",
      " 0    19355\n",
      "1      463\n",
      "Name: consumer_loan_purchase, dtype: int64\n",
      "target_segment: 3 \n",
      " 0    47440\n",
      "1       78\n",
      "Name: consumer_loan_purchase, dtype: int64\n",
      "target_segment: 4 \n",
      " 0    42648\n",
      "1     3899\n",
      "Name: consumer_loan_purchase, dtype: int64\n"
     ]
    }
   ],
   "source": [
    "for s in range(len(df_v1[\"target_segment\"].value_counts())):\n",
    "    #print(\"target_segment:\", s, \"\\n\", df.loc[((df[\"target_segment\"] == s) & (df[\"has_product_1\"] == 0)), \"product_1_purchase\"].value_counts())\n",
    "    print(\"target_segment:\", s, \"\\n\", df_v1.loc[(df_v1[\"target_segment\"] == s), \"consumer_loan_purchase\"].value_counts())"
   ]
  },
  {
   "cell_type": "code",
   "execution_count": 373,
   "metadata": {},
   "outputs": [
    {
     "data": {
      "text/html": [
       "<div>\n",
       "<style scoped>\n",
       "    .dataframe tbody tr th:only-of-type {\n",
       "        vertical-align: middle;\n",
       "    }\n",
       "\n",
       "    .dataframe tbody tr th {\n",
       "        vertical-align: top;\n",
       "    }\n",
       "\n",
       "    .dataframe thead th {\n",
       "        text-align: right;\n",
       "    }\n",
       "</style>\n",
       "<table border=\"1\" class=\"dataframe\">\n",
       "  <thead>\n",
       "    <tr style=\"text-align: right;\">\n",
       "      <th></th>\n",
       "      <th>active_product_14</th>\n",
       "      <th>num_owned_product</th>\n",
       "      <th>num_active_product</th>\n",
       "      <th>consumer_loan_purchase</th>\n",
       "    </tr>\n",
       "    <tr>\n",
       "      <th>target_segment</th>\n",
       "      <th></th>\n",
       "      <th></th>\n",
       "      <th></th>\n",
       "      <th></th>\n",
       "    </tr>\n",
       "  </thead>\n",
       "  <tbody>\n",
       "    <tr>\n",
       "      <th>0</th>\n",
       "      <td>0.02</td>\n",
       "      <td>2.83</td>\n",
       "      <td>1.13</td>\n",
       "      <td>0.01</td>\n",
       "    </tr>\n",
       "    <tr>\n",
       "      <th>1</th>\n",
       "      <td>0.05</td>\n",
       "      <td>7.40</td>\n",
       "      <td>4.68</td>\n",
       "      <td>0.15</td>\n",
       "    </tr>\n",
       "    <tr>\n",
       "      <th>2</th>\n",
       "      <td>0.09</td>\n",
       "      <td>4.74</td>\n",
       "      <td>3.19</td>\n",
       "      <td>0.02</td>\n",
       "    </tr>\n",
       "    <tr>\n",
       "      <th>3</th>\n",
       "      <td>0.00</td>\n",
       "      <td>1.53</td>\n",
       "      <td>0.55</td>\n",
       "      <td>0.00</td>\n",
       "    </tr>\n",
       "    <tr>\n",
       "      <th>4</th>\n",
       "      <td>0.09</td>\n",
       "      <td>6.55</td>\n",
       "      <td>4.29</td>\n",
       "      <td>0.08</td>\n",
       "    </tr>\n",
       "  </tbody>\n",
       "</table>\n",
       "</div>"
      ],
      "text/plain": [
       "                active_product_14  num_owned_product  num_active_product  \\\n",
       "target_segment                                                             \n",
       "0                            0.02               2.83                1.13   \n",
       "1                            0.05               7.40                4.68   \n",
       "2                            0.09               4.74                3.19   \n",
       "3                            0.00               1.53                0.55   \n",
       "4                            0.09               6.55                4.29   \n",
       "\n",
       "                consumer_loan_purchase  \n",
       "target_segment                          \n",
       "0                                 0.01  \n",
       "1                                 0.15  \n",
       "2                                 0.02  \n",
       "3                                 0.00  \n",
       "4                                 0.08  "
      ]
     },
     "execution_count": 373,
     "metadata": {},
     "output_type": "execute_result"
    }
   ],
   "source": [
    "grouped_af = df_v1.groupby(['target_segment']).mean().round(2)\n",
    "grouped_af.iloc[:,50:55]"
   ]
  },
  {
   "cell_type": "code",
   "execution_count": null,
   "metadata": {},
   "outputs": [],
   "source": []
  }
 ],
 "metadata": {
  "kernelspec": {
   "display_name": "Python 3",
   "language": "python",
   "name": "python3"
  },
  "language_info": {
   "codemirror_mode": {
    "name": "ipython",
    "version": 3
   },
   "file_extension": ".py",
   "mimetype": "text/x-python",
   "name": "python",
   "nbconvert_exporter": "python",
   "pygments_lexer": "ipython3",
   "version": "3.7.6"
  }
 },
 "nbformat": 4,
 "nbformat_minor": 4
}
